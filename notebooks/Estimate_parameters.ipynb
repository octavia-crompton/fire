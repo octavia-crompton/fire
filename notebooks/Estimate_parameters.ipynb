{
 "cells": [
  {
   "cell_type": "markdown",
   "metadata": {},
   "source": [
    "\n"
   ]
  },
  {
   "cell_type": "markdown",
   "metadata": {},
   "source": [
    "# Notebook  to estimate parameters from ICB and SLC "
   ]
  },
  {
   "cell_type": "code",
   "execution_count": 20,
   "metadata": {},
   "outputs": [],
   "source": [
    "run \"/Users/octavia/Dropbox/fire/fire_model/startup.py\""
   ]
  },
  {
   "cell_type": "markdown",
   "metadata": {},
   "source": [
    "## Estimate soil moisture content\n",
    "Determined by site characteristics\n",
    "\n",
    "porosity = 0.4  : uncertainty bounds?"
   ]
  },
  {
   "cell_type": "markdown",
   "metadata": {},
   "source": [
    "## Estimate growth rates"
   ]
  },
  {
   "cell_type": "markdown",
   "metadata": {},
   "source": [
    " $$   G_f = \\frac{k G_{o}}{G_{o} +(k-G_{o}) e^{-r t}} $$"
   ]
  },
  {
   "cell_type": "markdown",
   "metadata": {},
   "source": [
    "Assume $G_f$ and $G_o$ are known.  Rearrange:\n",
    "$$ r = \\frac{1}{t} \\log\\bigg(\\frac{G_f (k- G_u)}{G_o (k - G_f)}\\bigg)$$ "
   ]
  },
  {
   "cell_type": "markdown",
   "metadata": {},
   "source": [
    "$$ \\frac{G}{G_o} = 0.7 = \\frac{G_o}{G_o + (k- G_o)}$$ "
   ]
  },
  {
   "cell_type": "markdown",
   "metadata": {},
   "source": [
    "### White fir, sexual maturity approach\n",
    " -  list other species (Gaby)\n",
    " - source for numbers."
   ]
  },
  {
   "cell_type": "markdown",
   "metadata": {},
   "source": [
    "Trees of interest are:\n",
    "\n",
    "- Pinus jeffreyi : PIJE (Jeffrey pine)\n",
    "- Abies magnifica : ABMA, (California red fir)\n",
    "- A. concolor: ABCO (white fir)\n",
    "        -  in Maxwell\n",
    "- P. contorta; PICO (lodgepole pine)\n",
    "\n",
    "\n",
    "Shrubs are:\n",
    "- Ceanothus cordulatus; CECO (whitethorn ceanothus)\n",
    "    \n",
    "see: (Boisrame,2017)"
   ]
  },
  {
   "cell_type": "markdown",
   "metadata": {},
   "source": [
    "White fir  / Maxwell (2018)\n",
    "\n",
    "- ABGRC, Grand or white fir (Abies grandis/concolor)\n",
    "    - Sexual maturity at 35 years\n",
    "    - max above ground biomass is 60000 g/m2 = 60 kg/m2\n",
    "    \n",
    "    \n",
    "Assume sexual maturity is at 70% of max biomass\n",
    "- add e.g. 60%-80% \"uncertainty bound\"\n",
    "\n",
    "\n",
    "Maxwell (2018) also includes:\n",
    "- PILA\tPinus lambertiana (Sugar pine) (40 km/m2; 20 years)\n",
    "- PIMO3\tPinus monticola (10 kg/m2; 18 years)\n",
    "- PIPO\tPonderosa pine (40 kg/m2; 25 years) \n",
    "- PSME  Doublas fir (Pseudotsuga menziesii (Mirb.) Franco) (100 kg/m2; 15 years)\n"
   ]
  },
  {
   "cell_type": "markdown",
   "metadata": {},
   "source": [
    "Jeffrey pine\n",
    "\n",
    "    Trees as young as 8 years old have produced cones” (Gucker 2007)."
   ]
  },
  {
   "cell_type": "markdown",
   "metadata": {},
   "source": [
    "Re ceanothus, see:\n",
    "https://www.fs.fed.us/database/feis/plants/shrub/ceacor/all.html#18\n",
    "\n",
    "https://www.fs.fed.us/database/feis/plants/shrub/ceagre/all.html#:~:text=Seed%20production%3A%20Desert%20ceanothus%20plants,12%2C54%2C145%5D.&text=Zammit%20and%20Zedler%20%5B145%5D%20found,within%20two%20decades%20after%20fire."
   ]
  },
  {
   "cell_type": "code",
   "execution_count": 21,
   "metadata": {},
   "outputs": [],
   "source": [
    "k_u = 60 # kg.m2\n",
    "Go = k_u*(0.01)\n",
    "Gf = k_u*(0.7)\n",
    "t = np.array([10, 35])\n",
    "r_u = 1/t*np.log(Gf/Go*(k_u-Go)/(k_u-Gf))"
   ]
  },
  {
   "cell_type": "code",
   "execution_count": 22,
   "metadata": {},
   "outputs": [
    {
     "data": {
      "text/plain": [
       "array([0.54424177, 0.15549765])"
      ]
     },
     "execution_count": 22,
     "metadata": {},
     "output_type": "execute_result"
    }
   ],
   "source": [
    "r_u"
   ]
  },
  {
   "cell_type": "code",
   "execution_count": 23,
   "metadata": {},
   "outputs": [],
   "source": [
    "## Max ANPP per month: 2\n",
    "t = 60/(0.5*2)"
   ]
  },
  {
   "cell_type": "code",
   "execution_count": 24,
   "metadata": {},
   "outputs": [],
   "source": [
    "k = 60 # kg.m2\n",
    "Go = k*(0.01)\n",
    "Gf = k*(0.99)\n",
    "r = 1/t*np.log(Gf/Go*(k-Go)/(k-Gf))"
   ]
  },
  {
   "cell_type": "code",
   "execution_count": 25,
   "metadata": {},
   "outputs": [
    {
     "data": {
      "text/plain": [
       "0.15317066167115295"
      ]
     },
     "execution_count": 25,
     "metadata": {},
     "output_type": "execute_result"
    }
   ],
   "source": [
    "r\n",
    "# Conifer growth rate somewhere between 0.1 and 0.2"
   ]
  },
  {
   "cell_type": "markdown",
   "metadata": {},
   "source": [
    "### Shrubs"
   ]
  },
  {
   "cell_type": "code",
   "execution_count": 26,
   "metadata": {},
   "outputs": [
    {
     "name": "stdout",
     "output_type": "stream",
     "text": [
      "0.07 4.8999999999999995 69.99999999999999 1.3606044276304483\n"
     ]
    }
   ],
   "source": [
    "k_l = 7. # k_lg.m2  # TODO: dig this up in email to Sally and add to methods\n",
    "Go = k_l*(0.01)\n",
    "Gf = k_l*(0.7)\n",
    "\n",
    "t = 4\n",
    "r_l = 1/t*np.log(Gf/Go*(k_l-Go)/(k_l-Gf))\n",
    "print (Go,Gf,Gf/Go, r_l)"
   ]
  },
  {
   "cell_type": "code",
   "execution_count": 27,
   "metadata": {},
   "outputs": [
    {
     "data": {
      "text/plain": [
       "0.007171014976369919"
      ]
     },
     "execution_count": 27,
     "metadata": {},
     "output_type": "execute_result"
    }
   ],
   "source": [
    "r_l*0.1**0.5/k_u"
   ]
  },
  {
   "cell_type": "markdown",
   "metadata": {},
   "source": [
    "# Estimate alpha"
   ]
  },
  {
   "cell_type": "markdown",
   "metadata": {},
   "source": [
    "$$ \\frac{d G_l}{dt} = r_l S^\\beta G_l \\big(1-\\frac{G_l}{k_l}\\big) - \\alpha G_u G_l$$\n",
    "\n",
    "$$   r_l S^\\beta \\big(1-\\frac{G_l}{k_l}\\big) = \\alpha G_u $$\n",
    "\n",
    "$$  G_l = k_l\\bigg(1- \\frac{\\alpha G_u}{ r_l S^\\beta} \\bigg)$$"
   ]
  },
  {
   "cell_type": "markdown",
   "metadata": {},
   "source": [
    "assume $G_l \\sim 0$ when $G_u = k_u$.\n",
    "\n",
    "$$ \\alpha = r_l S^\\beta /k_u$$"
   ]
  },
  {
   "cell_type": "markdown",
   "metadata": {},
   "source": [
    "###  What is the \"steady state\" $G_l$ if $G_u = 0.9 k_u$ ?"
   ]
  },
  {
   "cell_type": "markdown",
   "metadata": {},
   "source": [
    "Let $G_{u} = \\xi k_u$  "
   ]
  },
  {
   "cell_type": "markdown",
   "metadata": {},
   "source": [
    "Then $$\\alpha G_u =  \\frac{r_l S^\\beta G_u}{k_u} = {r_l S^\\beta \\xi}$$\n",
    "and\n",
    "\n",
    "$$ \\frac{\\alpha G_u}{r_lS^\\beta} =   \\frac{ G_u}{k_u} = { \\xi}$$\n",
    "\n",
    "Solving for $G_l$"
   ]
  },
  {
   "cell_type": "markdown",
   "metadata": {},
   "source": [
    "$$  G_l = k_l\\bigg(1- \\frac{\\alpha G_u}{ r_l S^\\beta} \\bigg)$$\n"
   ]
  },
  {
   "cell_type": "markdown",
   "metadata": {},
   "source": [
    "$$  G_l = k_l\\big(1- \\xi \\big)$$\n",
    " and \n",
    "$$  \\frac{G_l}{k_l} = 1- \\xi $$"
   ]
  },
  {
   "cell_type": "markdown",
   "metadata": {},
   "source": [
    "## Assume we don't know beta \n",
    "S^beta = 1 if beta =0 and S^beta = S if beta = 1"
   ]
  },
  {
   "cell_type": "code",
   "execution_count": 10,
   "metadata": {},
   "outputs": [
    {
     "data": {
      "text/plain": [
       "0.0022676740460507473"
      ]
     },
     "execution_count": 10,
     "metadata": {},
     "output_type": "execute_result"
    }
   ],
   "source": [
    "r_l/k_u*0.1**1"
   ]
  },
  {
   "cell_type": "code",
   "execution_count": 11,
   "metadata": {},
   "outputs": [
    {
     "data": {
      "text/plain": [
       "0.022676740460507473"
      ]
     },
     "execution_count": 11,
     "metadata": {},
     "output_type": "execute_result"
    }
   ],
   "source": [
    "r_l/k_u*0.1**0"
   ]
  },
  {
   "cell_type": "markdown",
   "metadata": {},
   "source": [
    "Expect alpha is ~ 0.002 or 0.02."
   ]
  },
  {
   "cell_type": "markdown",
   "metadata": {},
   "source": [
    "## Estimate mean biomass"
   ]
  },
  {
   "cell_type": "code",
   "execution_count": 12,
   "metadata": {},
   "outputs": [
    {
     "name": "stdout",
     "output_type": "stream",
     "text": [
      "conifer =  20.66595744680851\n",
      "shrubs =  3.146808510638298\n",
      "meadow =  0.2042553191489362\n",
      "grass =  0.07659574468085106\n"
     ]
    }
   ],
   "source": [
    "# TODO: I don't know about these numbers.  From Quintana's thesis\n",
    "# Convert weighted mean carbon (Mg/ha) to biomass (kg/m2)\n",
    "print (\"conifer = \", 97.13/10/0.47)\n",
    "print (\"shrubs = \", 14.79/10/0.47)\n",
    "print (\"meadow = \", 0.96/10/0.47)\n",
    "print (\"grass = \",  0.36/10/0.47)\n",
    "\n",
    "# Alternative green canopy understory\n",
    "# k_l =  5.6/0.47/10 # kg/m2, powers, green canopy understory"
   ]
  },
  {
   "cell_type": "code",
   "execution_count": 13,
   "metadata": {},
   "outputs": [
    {
     "name": "stdout",
     "output_type": "stream",
     "text": [
      "conifer : tau=60, r=0.115\n",
      "shrubs : tau=6, r=1.150\n"
     ]
    }
   ],
   "source": [
    "import numpy as np\n",
    "## Estimate r from \n",
    "b = 0.9\n",
    "a = 0.01\n",
    "\n",
    "def r_of_tau(tau, a,b):\n",
    "    return - np.log(a*(1-b)/(1-a))/tau\n",
    "\n",
    "tau_u = 60\n",
    "r_u = r_of_tau(tau_u, a,b)\n",
    "print (\"conifer : tau={0}, r={1:.3f}\".format(tau_u, r_u))\n",
    "\n",
    "\n",
    "tau_s = 6\n",
    "r_l = r_of_tau(tau_s, a,b)\n",
    "print (\"shrubs : tau={0}, r={1:.3f}\".format(tau_s, r_l))\n"
   ]
  },
  {
   "cell_type": "markdown",
   "metadata": {},
   "source": [
    "## Estimate mean biomass"
   ]
  },
  {
   "cell_type": "code",
   "execution_count": 28,
   "metadata": {
    "lines_to_next_cell": 2
   },
   "outputs": [],
   "source": [
    "import pandas as pd\n",
    "\n",
    "shrub_conifer = {\"k_u\" : 60,\n",
    "                 \"k_l\" : 10,\n",
    "                 \"r_u\" : 0.15,\n",
    "                 \"r_l\" : 1.5,\n",
    "             }\n",
    "\n",
    "class params:\n",
    "    \"\"\"    \n",
    "    \"\"\"\n",
    "    def __init__(self, params = {}):\n",
    "        \"\"\"\n",
    "        \"\"\"\n",
    "        for k, v in params.items():\n",
    "             setattr(self, k, v)\n",
    "                \n",
    "p = params(shrub_conifer)\n"
   ]
  },
  {
   "cell_type": "markdown",
   "metadata": {},
   "source": [
    "## Stability of the lower canopy\n",
    "Maximum $\\alpha$ where lower canopy biomass is stable (without fires)\n"
   ]
  },
  {
   "cell_type": "code",
   "execution_count": 29,
   "metadata": {},
   "outputs": [
    {
     "name": "stdout",
     "output_type": "stream",
     "text": [
      "0.015909902576697322\n"
     ]
    }
   ],
   "source": [
    "\n",
    "S = 0.5\n",
    "beta = 0.5\n",
    "k_u = 20\n",
    "r_l = 0.45\n",
    "max_alpha = r_l*S**beta/k_u\n",
    "\n",
    "print (max_alpha)"
   ]
  },
  {
   "cell_type": "markdown",
   "metadata": {},
   "source": [
    "## Schematic comparison of ICB and SLC\n"
   ]
  },
  {
   "cell_type": "code",
   "execution_count": 30,
   "metadata": {},
   "outputs": [
    {
     "data": {
      "text/plain": [
       "Text(0, 0.5, '$G_u$')"
      ]
     },
     "execution_count": 30,
     "metadata": {},
     "output_type": "execute_result"
    },
    {
     "data": {
      "image/png": "[encoded data removed]",
      "text/plain": [
       "<Figure size 432x288 with 1 Axes>"
      ]
     },
     "metadata": {},
     "output_type": "display_data"
    }
   ],
   "source": [
    "p = RCSR({\"S\" : 0.5})\n",
    "RIs = np.arange(0, 100, .1)\n",
    "G_us = mean_G_u(p.r_u, p.k_u, p.S, p.beta, RIs, p.severity)\n",
    "line = plt.plot(  RIs,G_us, label = \"ICB\")\n",
    "\n",
    "RI_i = 80; \n",
    "RI_f = 20;\n",
    "G_u_i = (mean_G_u(p.r_u, p.k_u, p.S, p.beta, RI_i, p.severity))\n",
    "plt.plot(RI_i, G_u_i, \"o\",  c= line[0].get_color(), ms = 10)\n",
    "plt.plot(RI_f, G_u_i*0.75, \"o\", c= line[0].get_color(), ms = 10)\n",
    "\n",
    "\n",
    "##. Update SLC soil moisture\n",
    "p.S = 0.25\n",
    "\n",
    "RIs = np.arange(0, 100, .1)\n",
    "G_us = mean_G_u(p.r_u, p.k_u, p.S, p.beta, RIs, p.severity)\n",
    "line = plt.plot(  RIs,G_us, label = \"SLC\")\n",
    "\n",
    "RI_i = 80; \n",
    "RI_f = 40;\n",
    "G_u_i = (mean_G_u(p.r_u, p.k_u, p.S, p.beta, RI_i, p.severity))\n",
    "plt.plot(RI_i, G_u_i, \"o\",  c= line[0].get_color(), ms = 10)\n",
    "plt.plot(RI_f, G_u_i*0.95, \"o\", c= line[0].get_color(), ms = 10)\n",
    "\n",
    "\n",
    "plt.legend(loc = \"lower right\")\n",
    "plt.xlabel(\"RI\")\n",
    "plt.ylabel(\"$G_u$\")"
   ]
  },
  {
   "cell_type": "markdown",
   "metadata": {},
   "source": [
    "## Understanding poisson"
   ]
  },
  {
   "cell_type": "code",
   "execution_count": 17,
   "metadata": {},
   "outputs": [],
   "source": [
    "lambDa = 0.05\n",
    "dt = 1\n",
    "count = 0\n",
    "events = []\n",
    "time_since = 0\n",
    "waits = []\n",
    "for i in range(100000):\n",
    "    if np.random.rand() < lambDa:\n",
    "        count +=1\n",
    "        waits.append(time_since + 1)\n",
    "        time_since = 0\n",
    "        events.append(1)\n",
    "        \n",
    "    else:\n",
    "        time_since += 1        \n",
    "        events.append(0)"
   ]
  },
  {
   "cell_type": "code",
   "execution_count": 18,
   "metadata": {},
   "outputs": [],
   "source": [
    "wait_times = np.diff(np.nonzero(np.random.poisson(lambDa, 100000)))[0] "
   ]
  },
  {
   "cell_type": "code",
   "execution_count": 19,
   "metadata": {},
   "outputs": [
    {
     "data": {
      "text/plain": [
       "<matplotlib.lines.Line2D at 0x11cabb9d0>"
      ]
     },
     "execution_count": 19,
     "metadata": {},
     "output_type": "execute_result"
    },
    {
     "data": {
      "image/png": "[encoded data removed]",
      "text/plain": [
       "<Figure size 432x288 with 1 Axes>"
      ]
     },
     "metadata": {},
     "output_type": "display_data"
    }
   ],
   "source": [
    "plt.hist(waits, 200, alpha=0.5);\n",
    "# plt.hist(wait_times, 200);\n",
    "plt.axvline(5, c= \"k\")"
   ]
  },
  {
   "cell_type": "code",
   "execution_count": null,
   "metadata": {},
   "outputs": [],
   "source": []
  }
 ],
 "metadata": {
  "kernelspec": {
   "display_name": "fire",
   "language": "python",
   "name": "fire"
  },
  "language_info": {
   "codemirror_mode": {
    "name": "ipython",
    "version": 3
   },
   "file_extension": ".py",
   "mimetype": "text/x-python",
   "name": "python",
   "nbconvert_exporter": "python",
   "pygments_lexer": "ipython3",
   "version": "3.8.3"
  }
 },
 "nbformat": 4,
 "nbformat_minor": 2
}
