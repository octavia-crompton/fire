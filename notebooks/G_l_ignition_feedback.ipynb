{
 "cells": [
  {
   "cell_type": "code",
   "execution_count": 1,
   "metadata": {},
   "outputs": [],
   "source": [
    "run \"/Users/octavia/Dropbox/fire/fire_model/startup.py\""
   ]
  },
  {
   "cell_type": "markdown",
   "metadata": {},
   "source": [
    "## The $G_l$-ignition feedback\n",
    "\n",
    " Assume that return time linearly decreases as G_l increases"
   ]
  },
  {
   "cell_type": "code",
   "execution_count": 2,
   "metadata": {},
   "outputs": [
    {
     "data": {
      "image/png": "[encoded data removed]",
      "text/plain": [
       "<Figure size 720x288 with 2 Axes>"
      ]
     },
     "metadata": {},
     "output_type": "display_data"
    }
   ],
   "source": [
    "\n",
    "p = RCSR()\n",
    "fig, axes = plt.subplots(1,2, figsize = (10,4))\n",
    "ax = axes[0]\n",
    "\n",
    "G_l = np.arange(0, p.k_l+.1 , 0.1)\n",
    "RI_l = p.RI + p.chi*p.RI - p.chi*p.RI/p.k_l*G_l\n",
    "ax.axhline(p.RI, c = \"k\", lw = 1)\n",
    "ax.plot(G_l, RI_l)\n",
    "ax.set_xlabel(\"$G_l$\")\n",
    "ax.set_ylabel(\"RI (years)\")\n",
    "ax.set_title(\"$RI = 1/p$(ignition) \")\n",
    "\n",
    "ax = axes[1]\n",
    "ax.plot(G_l, 1/RI_l)\n",
    "ax.axhline(1/p.RI, c = \"k\", lw = 1)\n",
    "ax.set_xlabel(\"$G_l$\")\n",
    "ax.set_ylabel(\"$p$(ignition)\")\n",
    "ax.set_title(\"$p$(ignition)\")\n",
    "fig.savefig(fig_dir + '/G_l_feedback.png', format='png', dpi=300, bbox_inches = \"tight\")\n",
    "# The RI prescribed in the code is the minimum RI. The maximum ignition probabiliy is 1/RI."
   ]
  },
  {
   "cell_type": "markdown",
   "metadata": {},
   "source": [
    "## Simulation "
   ]
  },
  {
   "cell_type": "code",
   "execution_count": 3,
   "metadata": {},
   "outputs": [
    {
     "data": {
      "text/plain": [
       "'/Users/octavia/Dropbox/fire'"
      ]
     },
     "execution_count": 3,
     "metadata": {},
     "output_type": "execute_result"
    }
   ],
   "source": [
    "project_dir"
   ]
  },
  {
   "cell_type": "code",
   "execution_count": 4,
   "metadata": {},
   "outputs": [],
   "source": [
    "# Simulation batch\n",
    "sim_dir = os.path.join(project_dir , \"model_output/G_l\")\n",
    "file_dir = os.path.join(sim_dir, \"all_sims\")\n",
    "if os.path.isdir(file_dir)  == False:\n",
    "    os.mkdir(file_dir)\n",
    "    \n",
    "sys.path.append(sim_dir)\n",
    "if \"params\" in sys.modules:\n",
    "    del sys.modules[\"params\"]\n",
    "from params import all_params\n"
   ]
  },
  {
   "cell_type": "code",
   "execution_count": 5,
   "metadata": {},
   "outputs": [],
   "source": [
    "all_sims = read_all_sims(file_dir)"
   ]
  },
  {
   "cell_type": "code",
   "execution_count": 6,
   "metadata": {},
   "outputs": [
    {
     "ename": "KeyError",
     "evalue": "'Passing list-likes to .loc or [] with any missing labels is no longer supported, see https://pandas.pydata.org/pandas-docs/stable/user_guide/indexing.html#deprecate-loc-reindex-listlike'",
     "output_type": "error",
     "traceback": [
      "\u001b[0;31m---------------------------------------------------------------------------\u001b[0m",
      "\u001b[0;31mKeyError\u001b[0m                                  Traceback (most recent call last)",
      "\u001b[0;32m<ipython-input-6-d5f8d4fcec40>\u001b[0m in \u001b[0;36m<module>\u001b[0;34m\u001b[0m\n\u001b[0;32m----> 1\u001b[0;31m \u001b[0mres\u001b[0m \u001b[0;34m=\u001b[0m \u001b[0mcompute_all_summary\u001b[0m\u001b[0;34m(\u001b[0m\u001b[0mall_sims\u001b[0m\u001b[0;34m,\u001b[0m \u001b[0msim_dir\u001b[0m\u001b[0;34m)\u001b[0m\u001b[0;34m\u001b[0m\u001b[0;34m\u001b[0m\u001b[0m\n\u001b[0m\u001b[1;32m      2\u001b[0m \u001b[0mres\u001b[0m \u001b[0;34m=\u001b[0m \u001b[0mpd\u001b[0m\u001b[0;34m.\u001b[0m\u001b[0mread_pickle\u001b[0m\u001b[0;34m(\u001b[0m\u001b[0msim_dir\u001b[0m \u001b[0;34m+\u001b[0m \u001b[0;34m\"/summary.pkl\"\u001b[0m\u001b[0;34m)\u001b[0m\u001b[0;34m\u001b[0m\u001b[0;34m\u001b[0m\u001b[0m\n\u001b[1;32m      3\u001b[0m \u001b[0mres\u001b[0m\u001b[0;34m.\u001b[0m\u001b[0mseverity\u001b[0m \u001b[0;34m=\u001b[0m \u001b[0mnp\u001b[0m\u001b[0;34m.\u001b[0m\u001b[0mround\u001b[0m\u001b[0;34m(\u001b[0m\u001b[0mres\u001b[0m\u001b[0;34m.\u001b[0m\u001b[0mseverity\u001b[0m\u001b[0;34m,\u001b[0m\u001b[0;36m2\u001b[0m\u001b[0;34m)\u001b[0m\u001b[0;34m\u001b[0m\u001b[0;34m\u001b[0m\u001b[0m\n\u001b[1;32m      4\u001b[0m \u001b[0mres\u001b[0m\u001b[0;34m.\u001b[0m\u001b[0mp\u001b[0m \u001b[0;34m=\u001b[0m \u001b[0;36m1\u001b[0m\u001b[0;34m/\u001b[0m\u001b[0mres\u001b[0m\u001b[0;34m.\u001b[0m\u001b[0mRI\u001b[0m\u001b[0;34m\u001b[0m\u001b[0;34m\u001b[0m\u001b[0m\n",
      "\u001b[0;32m~/Dropbox/fire/fire_model/fire_model.py\u001b[0m in \u001b[0;36mcompute_all_summary\u001b[0;34m(all_sims, output_dir)\u001b[0m\n\u001b[1;32m    995\u001b[0m \u001b[0;34m\u001b[0m\u001b[0m\n\u001b[1;32m    996\u001b[0m         \u001b[0mvar_list\u001b[0m \u001b[0;34m=\u001b[0m \u001b[0mlist\u001b[0m\u001b[0;34m(\u001b[0m\u001b[0mdefault_params\u001b[0m\u001b[0;34m(\u001b[0m\u001b[0;34m)\u001b[0m\u001b[0;34m.\u001b[0m\u001b[0mkeys\u001b[0m\u001b[0;34m(\u001b[0m\u001b[0;34m)\u001b[0m\u001b[0;34m)\u001b[0m\u001b[0;34m\u001b[0m\u001b[0;34m\u001b[0m\u001b[0m\n\u001b[0;32m--> 997\u001b[0;31m         \u001b[0mparam\u001b[0m \u001b[0;34m=\u001b[0m \u001b[0mpd\u001b[0m\u001b[0;34m.\u001b[0m\u001b[0mSeries\u001b[0m\u001b[0;34m(\u001b[0m\u001b[0mvars\u001b[0m\u001b[0;34m(\u001b[0m\u001b[0mp\u001b[0m\u001b[0;34m)\u001b[0m\u001b[0;34m)\u001b[0m\u001b[0;34m[\u001b[0m\u001b[0mvar_list\u001b[0m\u001b[0;34m]\u001b[0m\u001b[0;34m\u001b[0m\u001b[0;34m\u001b[0m\u001b[0m\n\u001b[0m\u001b[1;32m    998\u001b[0m \u001b[0;34m\u001b[0m\u001b[0m\n\u001b[1;32m    999\u001b[0m \u001b[0;34m\u001b[0m\u001b[0m\n",
      "\u001b[0;32m~/anaconda3/envs/fire/lib/python3.8/site-packages/pandas/core/series.py\u001b[0m in \u001b[0;36m__getitem__\u001b[0;34m(self, key)\u001b[0m\n\u001b[1;32m    908\u001b[0m             \u001b[0mkey\u001b[0m \u001b[0;34m=\u001b[0m \u001b[0mcheck_bool_indexer\u001b[0m\u001b[0;34m(\u001b[0m\u001b[0mself\u001b[0m\u001b[0;34m.\u001b[0m\u001b[0mindex\u001b[0m\u001b[0;34m,\u001b[0m \u001b[0mkey\u001b[0m\u001b[0;34m)\u001b[0m\u001b[0;34m\u001b[0m\u001b[0;34m\u001b[0m\u001b[0m\n\u001b[1;32m    909\u001b[0m \u001b[0;34m\u001b[0m\u001b[0m\n\u001b[0;32m--> 910\u001b[0;31m         \u001b[0;32mreturn\u001b[0m \u001b[0mself\u001b[0m\u001b[0;34m.\u001b[0m\u001b[0m_get_with\u001b[0m\u001b[0;34m(\u001b[0m\u001b[0mkey\u001b[0m\u001b[0;34m)\u001b[0m\u001b[0;34m\u001b[0m\u001b[0;34m\u001b[0m\u001b[0m\n\u001b[0m\u001b[1;32m    911\u001b[0m \u001b[0;34m\u001b[0m\u001b[0m\n\u001b[1;32m    912\u001b[0m     \u001b[0;32mdef\u001b[0m \u001b[0m_get_with\u001b[0m\u001b[0;34m(\u001b[0m\u001b[0mself\u001b[0m\u001b[0;34m,\u001b[0m \u001b[0mkey\u001b[0m\u001b[0;34m)\u001b[0m\u001b[0;34m:\u001b[0m\u001b[0;34m\u001b[0m\u001b[0;34m\u001b[0m\u001b[0m\n",
      "\u001b[0;32m~/anaconda3/envs/fire/lib/python3.8/site-packages/pandas/core/series.py\u001b[0m in \u001b[0;36m_get_with\u001b[0;34m(self, key)\u001b[0m\n\u001b[1;32m    956\u001b[0m                 \u001b[0;32mreturn\u001b[0m \u001b[0mself\u001b[0m\u001b[0;34m.\u001b[0m\u001b[0m_get_values\u001b[0m\u001b[0;34m(\u001b[0m\u001b[0mkey\u001b[0m\u001b[0;34m)\u001b[0m\u001b[0;34m\u001b[0m\u001b[0;34m\u001b[0m\u001b[0m\n\u001b[1;32m    957\u001b[0m \u001b[0;34m\u001b[0m\u001b[0m\n\u001b[0;32m--> 958\u001b[0;31m             \u001b[0;32mreturn\u001b[0m \u001b[0mself\u001b[0m\u001b[0;34m.\u001b[0m\u001b[0mloc\u001b[0m\u001b[0;34m[\u001b[0m\u001b[0mkey\u001b[0m\u001b[0;34m]\u001b[0m\u001b[0;34m\u001b[0m\u001b[0;34m\u001b[0m\u001b[0m\n\u001b[0m\u001b[1;32m    959\u001b[0m \u001b[0;34m\u001b[0m\u001b[0m\n\u001b[1;32m    960\u001b[0m         \u001b[0;32mreturn\u001b[0m \u001b[0mself\u001b[0m\u001b[0;34m.\u001b[0m\u001b[0mreindex\u001b[0m\u001b[0;34m(\u001b[0m\u001b[0mkey\u001b[0m\u001b[0;34m)\u001b[0m\u001b[0;34m\u001b[0m\u001b[0;34m\u001b[0m\u001b[0m\n",
      "\u001b[0;32m~/anaconda3/envs/fire/lib/python3.8/site-packages/pandas/core/indexing.py\u001b[0m in \u001b[0;36m__getitem__\u001b[0;34m(self, key)\u001b[0m\n\u001b[1;32m   1766\u001b[0m \u001b[0;34m\u001b[0m\u001b[0m\n\u001b[1;32m   1767\u001b[0m             \u001b[0mmaybe_callable\u001b[0m \u001b[0;34m=\u001b[0m \u001b[0mcom\u001b[0m\u001b[0;34m.\u001b[0m\u001b[0mapply_if_callable\u001b[0m\u001b[0;34m(\u001b[0m\u001b[0mkey\u001b[0m\u001b[0;34m,\u001b[0m \u001b[0mself\u001b[0m\u001b[0;34m.\u001b[0m\u001b[0mobj\u001b[0m\u001b[0;34m)\u001b[0m\u001b[0;34m\u001b[0m\u001b[0;34m\u001b[0m\u001b[0m\n\u001b[0;32m-> 1768\u001b[0;31m             \u001b[0;32mreturn\u001b[0m \u001b[0mself\u001b[0m\u001b[0;34m.\u001b[0m\u001b[0m_getitem_axis\u001b[0m\u001b[0;34m(\u001b[0m\u001b[0mmaybe_callable\u001b[0m\u001b[0;34m,\u001b[0m \u001b[0maxis\u001b[0m\u001b[0;34m=\u001b[0m\u001b[0maxis\u001b[0m\u001b[0;34m)\u001b[0m\u001b[0;34m\u001b[0m\u001b[0;34m\u001b[0m\u001b[0m\n\u001b[0m\u001b[1;32m   1769\u001b[0m \u001b[0;34m\u001b[0m\u001b[0m\n\u001b[1;32m   1770\u001b[0m     \u001b[0;32mdef\u001b[0m \u001b[0m_is_scalar_access\u001b[0m\u001b[0;34m(\u001b[0m\u001b[0mself\u001b[0m\u001b[0;34m,\u001b[0m \u001b[0mkey\u001b[0m\u001b[0;34m:\u001b[0m \u001b[0mTuple\u001b[0m\u001b[0;34m)\u001b[0m\u001b[0;34m:\u001b[0m\u001b[0;34m\u001b[0m\u001b[0;34m\u001b[0m\u001b[0m\n",
      "\u001b[0;32m~/anaconda3/envs/fire/lib/python3.8/site-packages/pandas/core/indexing.py\u001b[0m in \u001b[0;36m_getitem_axis\u001b[0;34m(self, key, axis)\u001b[0m\n\u001b[1;32m   1952\u001b[0m                     \u001b[0;32mraise\u001b[0m \u001b[0mValueError\u001b[0m\u001b[0;34m(\u001b[0m\u001b[0;34m\"Cannot index with multidimensional key\"\u001b[0m\u001b[0;34m)\u001b[0m\u001b[0;34m\u001b[0m\u001b[0;34m\u001b[0m\u001b[0m\n\u001b[1;32m   1953\u001b[0m \u001b[0;34m\u001b[0m\u001b[0m\n\u001b[0;32m-> 1954\u001b[0;31m                 \u001b[0;32mreturn\u001b[0m \u001b[0mself\u001b[0m\u001b[0;34m.\u001b[0m\u001b[0m_getitem_iterable\u001b[0m\u001b[0;34m(\u001b[0m\u001b[0mkey\u001b[0m\u001b[0;34m,\u001b[0m \u001b[0maxis\u001b[0m\u001b[0;34m=\u001b[0m\u001b[0maxis\u001b[0m\u001b[0;34m)\u001b[0m\u001b[0;34m\u001b[0m\u001b[0;34m\u001b[0m\u001b[0m\n\u001b[0m\u001b[1;32m   1955\u001b[0m \u001b[0;34m\u001b[0m\u001b[0m\n\u001b[1;32m   1956\u001b[0m             \u001b[0;31m# nested tuple slicing\u001b[0m\u001b[0;34m\u001b[0m\u001b[0;34m\u001b[0m\u001b[0;34m\u001b[0m\u001b[0m\n",
      "\u001b[0;32m~/anaconda3/envs/fire/lib/python3.8/site-packages/pandas/core/indexing.py\u001b[0m in \u001b[0;36m_getitem_iterable\u001b[0;34m(self, key, axis)\u001b[0m\n\u001b[1;32m   1593\u001b[0m         \u001b[0;32melse\u001b[0m\u001b[0;34m:\u001b[0m\u001b[0;34m\u001b[0m\u001b[0;34m\u001b[0m\u001b[0m\n\u001b[1;32m   1594\u001b[0m             \u001b[0;31m# A collection of keys\u001b[0m\u001b[0;34m\u001b[0m\u001b[0;34m\u001b[0m\u001b[0;34m\u001b[0m\u001b[0m\n\u001b[0;32m-> 1595\u001b[0;31m             \u001b[0mkeyarr\u001b[0m\u001b[0;34m,\u001b[0m \u001b[0mindexer\u001b[0m \u001b[0;34m=\u001b[0m \u001b[0mself\u001b[0m\u001b[0;34m.\u001b[0m\u001b[0m_get_listlike_indexer\u001b[0m\u001b[0;34m(\u001b[0m\u001b[0mkey\u001b[0m\u001b[0;34m,\u001b[0m \u001b[0maxis\u001b[0m\u001b[0;34m,\u001b[0m \u001b[0mraise_missing\u001b[0m\u001b[0;34m=\u001b[0m\u001b[0;32mFalse\u001b[0m\u001b[0;34m)\u001b[0m\u001b[0;34m\u001b[0m\u001b[0;34m\u001b[0m\u001b[0m\n\u001b[0m\u001b[1;32m   1596\u001b[0m             return self.obj._reindex_with_indexers(\n\u001b[1;32m   1597\u001b[0m                 \u001b[0;34m{\u001b[0m\u001b[0maxis\u001b[0m\u001b[0;34m:\u001b[0m \u001b[0;34m[\u001b[0m\u001b[0mkeyarr\u001b[0m\u001b[0;34m,\u001b[0m \u001b[0mindexer\u001b[0m\u001b[0;34m]\u001b[0m\u001b[0;34m}\u001b[0m\u001b[0;34m,\u001b[0m \u001b[0mcopy\u001b[0m\u001b[0;34m=\u001b[0m\u001b[0;32mTrue\u001b[0m\u001b[0;34m,\u001b[0m \u001b[0mallow_dups\u001b[0m\u001b[0;34m=\u001b[0m\u001b[0;32mTrue\u001b[0m\u001b[0;34m\u001b[0m\u001b[0;34m\u001b[0m\u001b[0m\n",
      "\u001b[0;32m~/anaconda3/envs/fire/lib/python3.8/site-packages/pandas/core/indexing.py\u001b[0m in \u001b[0;36m_get_listlike_indexer\u001b[0;34m(self, key, axis, raise_missing)\u001b[0m\n\u001b[1;32m   1550\u001b[0m             \u001b[0mkeyarr\u001b[0m\u001b[0;34m,\u001b[0m \u001b[0mindexer\u001b[0m\u001b[0;34m,\u001b[0m \u001b[0mnew_indexer\u001b[0m \u001b[0;34m=\u001b[0m \u001b[0max\u001b[0m\u001b[0;34m.\u001b[0m\u001b[0m_reindex_non_unique\u001b[0m\u001b[0;34m(\u001b[0m\u001b[0mkeyarr\u001b[0m\u001b[0;34m)\u001b[0m\u001b[0;34m\u001b[0m\u001b[0;34m\u001b[0m\u001b[0m\n\u001b[1;32m   1551\u001b[0m \u001b[0;34m\u001b[0m\u001b[0m\n\u001b[0;32m-> 1552\u001b[0;31m         self._validate_read_indexer(\n\u001b[0m\u001b[1;32m   1553\u001b[0m             \u001b[0mkeyarr\u001b[0m\u001b[0;34m,\u001b[0m \u001b[0mindexer\u001b[0m\u001b[0;34m,\u001b[0m \u001b[0mo\u001b[0m\u001b[0;34m.\u001b[0m\u001b[0m_get_axis_number\u001b[0m\u001b[0;34m(\u001b[0m\u001b[0maxis\u001b[0m\u001b[0;34m)\u001b[0m\u001b[0;34m,\u001b[0m \u001b[0mraise_missing\u001b[0m\u001b[0;34m=\u001b[0m\u001b[0mraise_missing\u001b[0m\u001b[0;34m\u001b[0m\u001b[0;34m\u001b[0m\u001b[0m\n\u001b[1;32m   1554\u001b[0m         )\n",
      "\u001b[0;32m~/anaconda3/envs/fire/lib/python3.8/site-packages/pandas/core/indexing.py\u001b[0m in \u001b[0;36m_validate_read_indexer\u001b[0;34m(self, key, indexer, axis, raise_missing)\u001b[0m\n\u001b[1;32m   1652\u001b[0m             \u001b[0;31m# just raising\u001b[0m\u001b[0;34m\u001b[0m\u001b[0;34m\u001b[0m\u001b[0;34m\u001b[0m\u001b[0m\n\u001b[1;32m   1653\u001b[0m             \u001b[0;32mif\u001b[0m \u001b[0;32mnot\u001b[0m \u001b[0;34m(\u001b[0m\u001b[0max\u001b[0m\u001b[0;34m.\u001b[0m\u001b[0mis_categorical\u001b[0m\u001b[0;34m(\u001b[0m\u001b[0;34m)\u001b[0m \u001b[0;32mor\u001b[0m \u001b[0max\u001b[0m\u001b[0;34m.\u001b[0m\u001b[0mis_interval\u001b[0m\u001b[0;34m(\u001b[0m\u001b[0;34m)\u001b[0m\u001b[0;34m)\u001b[0m\u001b[0;34m:\u001b[0m\u001b[0;34m\u001b[0m\u001b[0;34m\u001b[0m\u001b[0m\n\u001b[0;32m-> 1654\u001b[0;31m                 raise KeyError(\n\u001b[0m\u001b[1;32m   1655\u001b[0m                     \u001b[0;34m\"Passing list-likes to .loc or [] with any missing labels \"\u001b[0m\u001b[0;34m\u001b[0m\u001b[0;34m\u001b[0m\u001b[0m\n\u001b[1;32m   1656\u001b[0m                     \u001b[0;34m\"is no longer supported, see \"\u001b[0m\u001b[0;34m\u001b[0m\u001b[0;34m\u001b[0m\u001b[0m\n",
      "\u001b[0;31mKeyError\u001b[0m: 'Passing list-likes to .loc or [] with any missing labels is no longer supported, see https://pandas.pydata.org/pandas-docs/stable/user_guide/indexing.html#deprecate-loc-reindex-listlike'"
     ]
    }
   ],
   "source": [
    "res = compute_all_summary(all_sims, sim_dir)\n",
    "res = pd.read_pickle(sim_dir + \"/summary.pkl\")\n",
    "res.severity = np.round(res.severity,2)\n",
    "res.p = 1/res.RI "
   ]
  },
  {
   "cell_type": "code",
   "execution_count": null,
   "metadata": {},
   "outputs": [],
   "source": [
    "print_all_params(all_params)"
   ]
  },
  {
   "cell_type": "markdown",
   "metadata": {},
   "source": [
    "### Select a simulation `p` from the $G_l$ feedback simulations;  subset `res` to match that case, grouping by no feedback ( `random`) and  $G_l$ feedback."
   ]
  },
  {
   "cell_type": "code",
   "execution_count": null,
   "metadata": {},
   "outputs": [],
   "source": [
    "res_random = res[res.ignition_type == \"random\"]\n",
    "res_feedback = res[res.ignition_type == \"G_l\"]\n",
    "\n",
    "case = res[(res.ignition_type == \"G_l\") & \n",
    "           (res_feedback.alpha == 0.02) & \n",
    "           (res_feedback.severity == 0.8) & \n",
    "           (res_feedback.RI == 20) & \n",
    "           (res_feedback.S == 0.2) ].iloc[0]\n",
    "print (case.name)\n",
    "\n",
    "random_subset = res_random[(res_random.alpha==case.alpha) &\n",
    "                           (res_random.S==case.S) &\n",
    "                           (res_random.beta == case.beta)]\n",
    "feedback_subset = res_feedback[(res_feedback.alpha==case.alpha) & \n",
    "                               (res_feedback.S==case.S) & \n",
    "                               (res_feedback.beta == case.beta)]\n",
    "\n",
    "\n",
    "key = case.name\n",
    "p = all_sims.loc[key].p\n"
   ]
  },
  {
   "cell_type": "markdown",
   "metadata": {},
   "source": [
    "### Select from `random_subset` the no-feedback simulation that most closely matches `p`; save this "
   ]
  },
  {
   "cell_type": "code",
   "execution_count": null,
   "metadata": {},
   "outputs": [],
   "source": [
    "err_l = np.abs(random_subset.G_l_mean - case.G_l_mean)\n",
    "err_u = np.abs(random_subset.G_u_mean - case.G_u_mean)\n",
    "random_subset[\"err_l\"] = err_l\n",
    "random_subset[\"err_u\"] = err_u\n",
    "random_subset[\"err\"] = np.sqrt(err_u**2 + err_l**2)\n",
    "\n",
    "tol = 1\n",
    "match= random_subset[(err_l  < tol) & (err_u < tol)]\n",
    "if len(match) == 0:\n",
    "    print (\"increase stop tol\")\n",
    "    \n",
    "match_key = match[match['err'] == match['err'].min()].index[0]\n",
    "p_match = all_sims.loc[match_key][\"p\"]\n",
    "match_case = random_subset.loc[match_key]\n",
    "match_case[[\"err\", \"err_u\", \"err_l\"]]"
   ]
  },
  {
   "cell_type": "code",
   "execution_count": null,
   "metadata": {},
   "outputs": [],
   "source": [
    "title = \"No feedback : \" + print_dict(case[[\"severity\",\"RI\"]]) + \"\\n $G_l$ Feedback : \" + \\\n",
    "            print_dict(match_case[[\"severity\",\"RI\"]]) \n",
    "canopy_compare(p, p_match, nfire = 100, title = title)\n",
    "# what is the \"average\" trajectory?"
   ]
  },
  {
   "cell_type": "code",
   "execution_count": null,
   "metadata": {},
   "outputs": [],
   "source": [
    "\n",
    "compare = pd.DataFrame({\"no_feedback\" : match_case, \"G_l_feedback\" : case })\n",
    "compare.loc[\"p\"] = 1/compare.loc[\"RI\"]\n",
    "compare.where(compare.G_l_feedback != compare.no_feedback).dropna().round(2)"
   ]
  },
  {
   "cell_type": "code",
   "execution_count": null,
   "metadata": {},
   "outputs": [],
   "source": [
    "def format_axes(x_var, y_var, ax):\n",
    "    \n",
    "    label_dict = {\n",
    "            \"RI\" : \"min $RI$\",\n",
    "            \"p\" : \"max $p$\",\n",
    "            \"RI_c\" : \"actual $RI$\",\n",
    "            \"G_u_mean\" : r\"$\\hat G_u$\",\n",
    "             \"G_l_mean\" : r\"$\\hat G_l$\"\n",
    "    \n",
    "            }\n",
    "    \n",
    "    ax.set_ylabel(label_dict[y_var])\n",
    "    ax.set_xlabel(label_dict[x_var])\n",
    "    ax.set_xticklabels(\"\")\n",
    "    ax.set_yticklabels(\"\")\n",
    "    return ax"
   ]
  },
  {
   "cell_type": "code",
   "execution_count": null,
   "metadata": {},
   "outputs": [],
   "source": [
    "\n",
    "fig, axes = plt.subplots(1,4 , figsize = (16,4))\n",
    "axes= axes.ravel()\n",
    "alpha = 1\n",
    "plot_vars = [[\"RI\", \"RI_c\"],\n",
    "            [\"p\", \"RI_c\"],\n",
    "            [\"p\", \"G_l_mean\"],\n",
    "             [\"G_u_mean\", \"G_l_mean\"]\n",
    "            ]\n",
    "\n",
    "for i, ax in enumerate(axes[:len(plot_vars)]):\n",
    "    x_var, y_var = plot_vars[i]\n",
    "    ax.scatter(random_subset[x_var], random_subset[y_var],\n",
    "               alpha = alpha, label = \"random\")\n",
    "    ax.scatter(feedback_subset[x_var], feedback_subset[y_var],\n",
    "               alpha = alpha, label = \"feedback\")\n",
    "\n",
    "    format_axes(x_var, y_var, ax)\n",
    "\n",
    "axes[0].legend()\n"
   ]
  },
  {
   "cell_type": "code",
   "execution_count": null,
   "metadata": {},
   "outputs": [],
   "source": [
    "x_var = \"RI\"\n",
    "y_var = \"severity\"\n",
    "feedback_subset = feedback_subset.sort_values(by = [x_var, y_var])\n",
    "random_subset = random_subset.sort_values(by = [x_var, y_var])"
   ]
  },
  {
   "cell_type": "code",
   "execution_count": null,
   "metadata": {},
   "outputs": [],
   "source": [
    "def plot_grid_feedback(feedback_subset, random_subset, x_var, y_var):\n",
    "    \"\"\"\n",
    "    Gridded plot of G_u and G_l predicted mean and errors, \n",
    "    over a 2D grid of parameter values (`x_var` and `y_var`)\n",
    "    \n",
    "    \"\"\"\n",
    "\n",
    "\n",
    "    fig, axes = plt.subplots(2,2, figsize = (12, 8))\n",
    "    axes = axes.ravel()\n",
    "    maps = reformat_to_grid(feedback_subset,x_var, y_var)\n",
    "    y = expand(maps[y_var].copy())\n",
    "    x = expand(maps[x_var].copy())\n",
    "    \n",
    "    ax = axes[0]\n",
    "    z = expand_z(np.array(maps[\"G_u_mean\"]))\n",
    "    ax.set_xticks([], []);    \n",
    "    ax, zplot = colormap(x,y, z, ax= ax)\n",
    "    ax.set_ylabel(\"Severity\")\n",
    "    ax.set_title(r\"$\\bar G_u$ with feedback \")\n",
    "    \n",
    "    ax = axes[1]\n",
    "    z = expand_z(np.array(maps[\"G_l_mean\"]))\n",
    "    ax, zplot = colormap(x,y, z, ax= ax)\n",
    "    ax.set_yticks([], []);\n",
    "    ax.set_xticks([], []);        \n",
    "    ax.set_title(r\"$\\bar G_l$ with feedback\")\n",
    "\n",
    "    maps = reformat_to_grid(random_subset,x_var, y_var)\n",
    "    y = expand(maps[y_var].copy())\n",
    "    x = expand(maps[x_var].copy())    \n",
    "    \n",
    "    ax = axes[2]\n",
    "    z = expand_z(np.array(maps[\"G_u_mean\"]))\n",
    "    ax.set_xticks([], []);    \n",
    "    ax, zplot = colormap(x,y, z, ax= ax)\n",
    "    ax.set_ylabel(\"Severity\")\n",
    "    ax.set_title(r\"$\\bar G_u$ no feedback \")\n",
    "    \n",
    "    ax = axes[3]\n",
    "    z = expand_z(np.array(maps[\"G_l_mean\"]))\n",
    "    ax, zplot = colormap(x,y, z, ax= ax)\n",
    "    ax.set_yticks([], []);\n",
    "    ax.set_xticks([], []);        \n",
    "    ax.set_title(r\"$\\bar G_l$ no feedback\")\n",
    "    \n",
    "    \n",
    "    return axes"
   ]
  },
  {
   "cell_type": "code",
   "execution_count": null,
   "metadata": {},
   "outputs": [],
   "source": [
    " plot_grid_feedback(feedback_subset, random_subset, x_var, y_var);"
   ]
  },
  {
   "cell_type": "code",
   "execution_count": null,
   "metadata": {},
   "outputs": [],
   "source": [
    "\n",
    "fig, axes = plt.subplots(1,2, figsize = (10,4))\n",
    "ax = axes[0]\n",
    "bins = np.arange(0, 100, 5)\n",
    "bins = ax.hist(p_match.record.time_past_fire, bins, label = \"no feedback\");\n",
    "ax.hist(p.record.time_past_fire, bins[1], alpha= 0.5, label = \"$G_l$ feedback\");\n",
    "ax.legend()\n",
    "ax.set_title(\"Histogram of $RI$ values\")\n",
    "\n",
    "ax = axes[1]\n",
    "bins = ax.hist(p_match.record.G_u_max, 20,  label = \"no feedback\");\n",
    "ax.hist(p.record.G_u_max, bins[1], alpha= 0.5, label = \"$G_l$ feedback\");\n",
    "ax.legend()\n",
    "ax.set_title(\"Histogram of $G_{u,max}$ values\")\n"
   ]
  },
  {
   "cell_type": "code",
   "execution_count": null,
   "metadata": {},
   "outputs": [],
   "source": [
    "p.record[\"u_removed\"] = p.record.G_u_max*p.record.u_severity\n",
    "p.record[\"l_removed\"] = p.record.G_l_max*p.record.l_severity\n",
    "\n",
    "p_match.record[\"u_removed\"] = p_match.record.G_u_max*p.record.u_severity\n",
    "p_match.record[\"l_removed\"] = p_match.record.G_l_max*p.record.l_severity\n"
   ]
  },
  {
   "cell_type": "code",
   "execution_count": null,
   "metadata": {},
   "outputs": [],
   "source": [
    "## Biomass removed\n",
    "fig, axes = plt.subplots(1,2, figsize = (10,4))\n",
    "ax = axes[0]\n",
    "# bins = np.arange(0, 100, 5)\n",
    "bins = ax.hist(p_match.record.u_removed, 20, label = \"no feedback\");\n",
    "ax.hist(p.record.u_removed, bins[1], alpha= 0.5, label = \"$G_l$ feedback\");\n",
    "# ax.legend() \n",
    "ax.set_title(\"Histogram of \\n upper canopy biomass removed\")\n",
    "\n",
    "ax = axes[1]\n",
    "bins = ax.hist(p_match.record.l_removed, 20,  label = \"no feedback\");\n",
    "ax.hist(p.record.l_removed, bins[1], alpha= 0.5, label = \"$G_l$ feedback\");\n",
    "ax.legend()\n",
    "ax.set_title(\"Histogram of \\n lower canopy biomass removed\")"
   ]
  },
  {
   "cell_type": "markdown",
   "metadata": {},
   "source": [
    "# Illustrates feedback without matching"
   ]
  },
  {
   "cell_type": "code",
   "execution_count": null,
   "metadata": {},
   "outputs": [],
   "source": [
    "\n",
    "p = RCSR()\n",
    "# params = default\n",
    "update = {\n",
    "          \"r_l\" : 0.45,\n",
    "          \"r_u\" : 0.15,           \n",
    "          \"alpha\" : 0.02,\n",
    "          \"beta\" : 0.5,\n",
    "          \"RI\" : 20,\n",
    "          \"severity\" : 0.80,\n",
    "          \"severity_type\" : \"random\",\n",
    "          \"ignition_type\" : \"G_l\",          \n",
    "          \"sigma_phi\" : 0.01,\n",
    "          \"seed\" : 0,\n",
    "          \"chi\" : 1,\n",
    "          \"S\" : 0.5\n",
    "         }\n",
    "\n",
    "\n",
    "p = RCSR(update)\n",
    "p.run()\n",
    "\n",
    "\n",
    "update_fix = update.copy()\n",
    "update_fix[\"ignition_type\"] = \"random\"\n",
    "p1 = RCSR(update_fix)\n",
    "p1.run()\n",
    "\n",
    "canopy_plot(p1, nfire = 100, title = \"No feedback\")\n",
    "canopy_plot(p, nfire = 100, title = \"$G_l$ feedback\")"
   ]
  },
  {
   "cell_type": "code",
   "execution_count": null,
   "metadata": {},
   "outputs": [],
   "source": [
    "fig, axes = plt.subplots(1,2, figsize = (10,4))\n",
    "ax = axes[0]\n",
    "bins = np.arange(0, 100, 5)\n",
    "bins = ax.hist(p1.record.time_past_fire, bins, label = \"no feedback\");\n",
    "ax.hist(p.record.time_past_fire, bins[1], alpha= 0.5, label = \"$G_l$ feedback\");\n",
    "ax.legend()\n",
    "ax.set_title(\"Histogram of $RI$ values\")\n",
    "\n",
    "ax = axes[1]\n",
    "bins = ax.hist(p1.record.G_u_max, 20,  label = \"no feedback\");\n",
    "ax.hist(p.record.G_u_max, bins[1], alpha= 0.5, label = \"$G_l$ feedback\");\n",
    "ax.legend()\n",
    "ax.set_title(\"Histogram of $G_{u,max}$ values\")\n"
   ]
  },
  {
   "cell_type": "markdown",
   "metadata": {},
   "source": [
    "## Trajectory plot?\n",
    "Code not working "
   ]
  },
  {
   "cell_type": "code",
   "execution_count": null,
   "metadata": {},
   "outputs": [],
   "source": [
    "\n",
    "for i, d in enumerate(p.record.year[:-1]):\n",
    "    start = round(d)\n",
    "    end = int(round(d + p.record.time_past_fire[i+1] - 2/p.dt_p))\n",
    "    plt.plot(p.G_l_list[start:end])"
   ]
  },
  {
   "cell_type": "code",
   "execution_count": null,
   "metadata": {},
   "outputs": [],
   "source": []
  }
 ],
 "metadata": {
  "kernelspec": {
   "display_name": "fire",
   "language": "python",
   "name": "fire"
  },
  "language_info": {
   "codemirror_mode": {
    "name": "ipython",
    "version": 3
   },
   "file_extension": ".py",
   "mimetype": "text/x-python",
   "name": "python",
   "nbconvert_exporter": "python",
   "pygments_lexer": "ipython3",
   "version": "3.8.3"
  }
 },
 "nbformat": 4,
 "nbformat_minor": 2
}
