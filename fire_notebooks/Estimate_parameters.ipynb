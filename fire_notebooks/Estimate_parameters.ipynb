{
 "cells": [
  {
   "cell_type": "markdown",
   "metadata": {},
   "source": [
    "\n"
   ]
  },
  {
   "cell_type": "markdown",
   "metadata": {},
   "source": [
    "Notebook intended to estimate parameters from ICB and SLC "
   ]
  },
  {
   "cell_type": "code",
   "execution_count": 4,
   "metadata": {},
   "outputs": [],
   "source": [
    "import os\n",
    "startup_file = \"/Users/octavia/Dropbox/fire/src_v1/startup.py\"\n"
   ]
  },
  {
   "cell_type": "code",
   "execution_count": 5,
   "metadata": {},
   "outputs": [],
   "source": [
    "run \"/Users/octavia/Dropbox/fire/src_v1/startup.py\""
   ]
  },
  {
   "cell_type": "markdown",
   "metadata": {},
   "source": [
    "## Estimate soil moisture content"
   ]
  },
  {
   "cell_type": "code",
   "execution_count": 6,
   "metadata": {},
   "outputs": [],
   "source": [
    "# Transition matrix from Gaby\n",
    "theta = {\"conifer\": {\n",
    "                \"grass\" : 0.19, \"conifer\" : 0.21,\"shrub\" :0.22, \"meadow\" :0.40 },\n",
    "              \"meadow\": {\n",
    "                \"grass\" : np.nan, \"conifer\" : 0.25,\"shrub\" :  np.nan, \"meadow\" : 0.52 },\n",
    "              \"shrub\": {\n",
    "                \"grass\" : np.nan, \"conifer\" : 0.2, \"shrub\" : 0.2, \"meadow\" : np.nan },\n",
    "              \"grass\": {\n",
    "                \"grass\" : 0.21, \"conifer\" : 0.21, \"shrub\" : 0.21, \"meadow\" : np.nan }\n",
    "     }\n",
    "# porosity = 0.4"
   ]
  },
  {
   "cell_type": "code",
   "execution_count": 7,
   "metadata": {},
   "outputs": [
    {
     "data": {
      "text/plain": [
       "0.5249999999999999"
      ]
     },
     "execution_count": 7,
     "metadata": {},
     "output_type": "execute_result"
    }
   ],
   "source": [
    "s = 0.21/0.4\n",
    "s"
   ]
  },
  {
   "cell_type": "markdown",
   "metadata": {},
   "source": [
    "## Estimate mean biomass"
   ]
  },
  {
   "cell_type": "code",
   "execution_count": 8,
   "metadata": {},
   "outputs": [
    {
     "name": "stdout",
     "output_type": "stream",
     "text": [
      "conifer =  20.66595744680851\n",
      "shrubs =  3.146808510638298\n",
      "meadow =  0.2042553191489362\n",
      "grass =  0.07659574468085106\n"
     ]
    }
   ],
   "source": [
    "# Convert weighted mean carbon (Mg/ha) to biomass (kg/m2)\n",
    "print (\"conifer = \", 97.13/10/0.47)\n",
    "print (\"shrubs = \", 14.79/10/0.47)\n",
    "print (\"meadow = \", 0.96/10/0.47)\n",
    "print (\"grass = \",  0.36/10/0.47)\n",
    "\n",
    "# Alternative green canopy understory\n",
    "# k_l =  5.6/0.47/10 # kg/m2, powers, green canopy understory"
   ]
  },
  {
   "cell_type": "code",
   "execution_count": 9,
   "metadata": {},
   "outputs": [
    {
     "name": "stdout",
     "output_type": "stream",
     "text": [
      "conifer : tau=60, r=0.115\n",
      "shrubs : tau=6, r=1.150\n",
      "10.0\n"
     ]
    }
   ],
   "source": [
    "import numpy as np\n",
    "## Estimate r from \n",
    "b = 0.9\n",
    "a = 0.01\n",
    "\n",
    "def r_of_tau(tau, a,b):\n",
    "    return - np.log(a*(1-b)/(1-a))/tau\n",
    "\n",
    "tau_u = 60\n",
    "r_u = r_of_tau(tau_u, a,b)\n",
    "print (\"conifer : tau={0}, r={1:.3f}\".format(tau_u, r_u))\n",
    "\n",
    "\n",
    "tau_s = 6\n",
    "r_l = r_of_tau(tau_s, a,b)\n",
    "print (\"shrubs : tau={0}, r={1:.3f}\".format(tau_s, r_l))\n"
   ]
  },
  {
   "cell_type": "markdown",
   "metadata": {},
   "source": [
    "## Estimate mean biomass"
   ]
  },
  {
   "cell_type": "code",
   "execution_count": 10,
   "metadata": {
    "lines_to_next_cell": 2
   },
   "outputs": [],
   "source": [
    "import pandas as pd\n",
    "\n",
    "shrub_conifer = {\"k_u\" : 20.6, \n",
    "                 \"k_l\" : 3.14,\n",
    "                 \"r_u\" : 0.15,\n",
    "                 \"r_l\" : 0.45,\n",
    "             }\n",
    "\n",
    "class params:\n",
    "    \"\"\"    \n",
    "    \"\"\"\n",
    "    def __init__(self, params = {}):\n",
    "        \"\"\"\n",
    "        \"\"\"\n",
    "        for k, v in params.items():\n",
    "             setattr(self, k, v)\n",
    "                \n",
    "p = params(shrub_conifer)\n"
   ]
  },
  {
   "cell_type": "markdown",
   "metadata": {},
   "source": [
    "## Stability of the lower canopy\n",
    "Maximum $\\alpha$ where lower canopy biomass is stable (without fires)\n"
   ]
  },
  {
   "cell_type": "code",
   "execution_count": 17,
   "metadata": {},
   "outputs": [
    {
     "name": "stdout",
     "output_type": "stream",
     "text": [
      "0.015909902576697322\n"
     ]
    }
   ],
   "source": [
    "\n",
    "S = 0.5\n",
    "beta = 0.5\n",
    "k_u = 20\n",
    "r_l = 0.45\n",
    "max_alpha = r_l*S**beta/k_u\n",
    "\n",
    "print (max_alpha)"
   ]
  },
  {
   "cell_type": "markdown",
   "metadata": {},
   "source": [
    "## Schematic comparison of ICB and SLC\n"
   ]
  },
  {
   "cell_type": "code",
   "execution_count": 16,
   "metadata": {},
   "outputs": [
    {
     "data": {
      "text/plain": [
       "Text(0, 0.5, '$G_u$')"
      ]
     },
     "execution_count": 16,
     "metadata": {},
     "output_type": "execute_result"
    },
    {
     "data": {
      "image/png": "[encoded data removed]",
      "text/plain": [
       "<Figure size 432x288 with 1 Axes>"
      ]
     },
     "metadata": {},
     "output_type": "display_data"
    }
   ],
   "source": [
    "p = RCSR({\"S\" : 0.5})\n",
    "RIs = np.arange(0, 100, .1)\n",
    "G_us = mean_G_u(p.r_u, p.k_u, p.S, p.beta, RIs, p.severity)\n",
    "line = plt.plot(  RIs,G_us, label = \"ICB\")\n",
    "\n",
    "RI_i = 80; \n",
    "RI_f = 20;\n",
    "G_u_i = (mean_G_u(p.r_u, p.k_u, p.S, p.beta, RI_i, p.severity))\n",
    "plt.plot(RI_i, G_u_i, \"o\",  c= line[0].get_color(), ms = 10)\n",
    "plt.plot(RI_f, G_u_i*0.75, \"o\", c= line[0].get_color(), ms = 10)\n",
    "\n",
    "\n",
    "##. Update SLC soil moisture\n",
    "p.S = 0.25\n",
    "\n",
    "RIs = np.arange(0, 100, .1)\n",
    "G_us = mean_G_u(p.r_u, p.k_u, p.S, p.beta, RIs, p.severity)\n",
    "line = plt.plot(  RIs,G_us, label = \"SLC\")\n",
    "\n",
    "RI_i = 80; \n",
    "RI_f = 40;\n",
    "G_u_i = (mean_G_u(p.r_u, p.k_u, p.S, p.beta, RI_i, p.severity))\n",
    "plt.plot(RI_i, G_u_i, \"o\",  c= line[0].get_color(), ms = 10)\n",
    "plt.plot(RI_f, G_u_i*0.95, \"o\", c= line[0].get_color(), ms = 10)\n",
    "\n",
    "\n",
    "plt.legend(loc = \"lower right\")\n",
    "plt.xlabel(\"RI\")\n",
    "plt.ylabel(\"$G_u$\")"
   ]
  },
  {
   "cell_type": "markdown",
   "metadata": {},
   "source": [
    "## Understanding poisson"
   ]
  },
  {
   "cell_type": "code",
   "execution_count": 9,
   "metadata": {},
   "outputs": [],
   "source": [
    "lambDa = 0.05\n",
    "dt = 1\n",
    "count = 0\n",
    "events = []\n",
    "time_since = 0\n",
    "waits = []\n",
    "for i in range(100000):\n",
    "    if np.random.rand() < lambDa:\n",
    "        count +=1\n",
    "        waits.append(time_since + 1)\n",
    "        time_since = 0\n",
    "        events.append(1)\n",
    "        \n",
    "    else:\n",
    "        time_since += 1        \n",
    "        events.append(0)"
   ]
  },
  {
   "cell_type": "code",
   "execution_count": 10,
   "metadata": {},
   "outputs": [],
   "source": [
    "wait_times = np.diff(np.nonzero(np.random.poisson(lambDa, 100000)))[0] "
   ]
  },
  {
   "cell_type": "code",
   "execution_count": 11,
   "metadata": {},
   "outputs": [
    {
     "data": {
      "text/plain": [
       "<matplotlib.lines.Line2D at 0x10ee273a0>"
      ]
     },
     "execution_count": 11,
     "metadata": {},
     "output_type": "execute_result"
    },
    {
     "data": {
      "image/png": "[encoded data removed]",
      "text/plain": [
       "<Figure size 432x288 with 1 Axes>"
      ]
     },
     "metadata": {
      "needs_background": "light"
     },
     "output_type": "display_data"
    }
   ],
   "source": [
    "plt.hist(waits, 200, alpha=0.5);\n",
    "# plt.hist(wait_times, 200);\n",
    "plt.axvline(5, c= \"k\")"
   ]
  },
  {
   "cell_type": "code",
   "execution_count": null,
   "metadata": {},
   "outputs": [],
   "source": []
  }
 ],
 "metadata": {
  "kernelspec": {
   "display_name": "fire",
   "language": "python",
   "name": "fire"
  },
  "language_info": {
   "codemirror_mode": {
    "name": "ipython",
    "version": 3
   },
   "file_extension": ".py",
   "mimetype": "text/x-python",
   "name": "python",
   "nbconvert_exporter": "python",
   "pygments_lexer": "ipython3",
   "version": "3.8.1"
  }
 },
 "nbformat": 4,
 "nbformat_minor": 2
}
