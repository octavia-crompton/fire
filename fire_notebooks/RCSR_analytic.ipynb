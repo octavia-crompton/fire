{
 "cells": [
  {
   "cell_type": "markdown",
   "metadata": {},
   "source": [
    "#### Code to test the analytical solution with constant RI and fixed severity"
   ]
  },
  {
   "cell_type": "code",
   "execution_count": 2,
   "metadata": {},
   "outputs": [
    {
     "data": {
      "application/javascript": [
       "IPython.notebook.set_autosave_interval(0)"
      ]
     },
     "metadata": {},
     "output_type": "display_data"
    },
    {
     "name": "stdout",
     "output_type": "stream",
     "text": [
      "Autosave disabled\n"
     ]
    }
   ],
   "source": [
    "%autosave 0"
   ]
  },
  {
   "cell_type": "code",
   "execution_count": 3,
   "metadata": {},
   "outputs": [],
   "source": [
    "import os\n",
    "startup_file = \"/Users/octavia/Dropbox/fire/src_v1/startup.py\""
   ]
  },
  {
   "cell_type": "code",
   "execution_count": 4,
   "metadata": {},
   "outputs": [],
   "source": [
    "run \"/Users/octavia/Dropbox/fire/src_v1/startup.py\""
   ]
  },
  {
   "cell_type": "markdown",
   "metadata": {},
   "source": [
    "## Read parameter file"
   ]
  },
  {
   "cell_type": "code",
   "execution_count": 5,
   "metadata": {},
   "outputs": [],
   "source": [
    "# Simulation batch\n",
    "sim_dir = project_dir + \"/sims_analytic_check\"\n",
    "file_dir = sim_dir + \"/all_sims\"\n",
    "if os.path.isdir(file_dir)  == False:\n",
    "    os.mkdir(file_dir)\n",
    "    \n",
    "sys.path.append(sim_dir)\n",
    "if \"params\" in sys.modules:\n",
    "    del sys.modules[\"params\"]\n",
    "from params import all_params\n"
   ]
  },
  {
   "cell_type": "code",
   "execution_count": 6,
   "metadata": {},
   "outputs": [],
   "source": [
    "# better to run from the command line as `call_fire.py`\n",
    "# all_sims = run_all_sims(all_params, file_dir)"
   ]
  },
  {
   "cell_type": "code",
   "execution_count": 7,
   "metadata": {},
   "outputs": [],
   "source": [
    "all_sims = read_all_sims(file_dir)"
   ]
  },
  {
   "cell_type": "code",
   "execution_count": null,
   "metadata": {},
   "outputs": [],
   "source": [
    "res = compute_all_errors(all_sims, sim_dir, recomp = False)"
   ]
  },
  {
   "cell_type": "code",
   "execution_count": null,
   "metadata": {},
   "outputs": [],
   "source": [
    "res = pd.read_pickle(sim_dir + \"/analytic_errs.pkl\")"
   ]
  },
  {
   "cell_type": "code",
   "execution_count": null,
   "metadata": {},
   "outputs": [],
   "source": [
    "subset = res[(res.alpha==0.02)&(res.r_l == 1.5) & (res.beta == 0.6)]\n",
    "x_var = \"RI\"\n",
    "y_var = \"severity\"\n",
    "subset = subset.sort_values(by = [x_var, y_var])\n",
    "axes = plot_G_grid(subset, x_var, y_var)\n",
    "\n",
    "RIs = np.unique(subset.RI)\n",
    "p = RCSR(subset.iloc[0])\n",
    "severities = p.max_severity(p.r_u*p.S**p.beta, RIs)\n",
    "axes[0, 0].plot(RIs, severities, '--' )\n",
    "axes[1, 0].plot(RIs, severities, '--' )\n"
   ]
  },
  {
   "cell_type": "markdown",
   "metadata": {},
   "source": [
    "## Check out a high error case"
   ]
  },
  {
   "cell_type": "code",
   "execution_count": null,
   "metadata": {},
   "outputs": [],
   "source": [
    "## The errors are all acceptable\n",
    "x = res[\"G_l_mean_e\"]\n",
    "cols = [\"r_l\", \"alpha\", \"severity\", \"RI\", \"G_l_mean_a\", \"G_l_mean_c\", \"G_l_mean_e\" ]\n",
    "high_error_case = res[x == np.max(x)]\n",
    "high_error_case[cols]\n",
    "high_error_case.index[0]\n",
    "p = all_sims.loc[high_error_case.index[0]][0]"
   ]
  },
  {
   "cell_type": "code",
   "execution_count": null,
   "metadata": {},
   "outputs": [],
   "source": [
    "canopy_plot(p, 10)"
   ]
  },
  {
   "cell_type": "code",
   "execution_count": null,
   "metadata": {},
   "outputs": [],
   "source": []
  }
 ],
 "metadata": {
  "kernelspec": {
   "display_name": "fire3",
   "language": "python",
   "name": "fire3"
  },
  "language_info": {
   "codemirror_mode": {
    "name": "ipython",
    "version": 3
   },
   "file_extension": ".py",
   "mimetype": "text/x-python",
   "name": "python",
   "nbconvert_exporter": "python",
   "pygments_lexer": "ipython3",
   "version": "3.6.10"
  }
 },
 "nbformat": 4,
 "nbformat_minor": 2
}
