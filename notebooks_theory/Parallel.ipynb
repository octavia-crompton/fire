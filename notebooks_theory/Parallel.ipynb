{
 "cells": [
  {
   "cell_type": "code",
   "execution_count": 1,
   "metadata": {},
   "outputs": [],
   "source": [
    "run \"/Users/octavia/Dropbox/fire/fire_model/startup.py\""
   ]
  },
  {
   "cell_type": "code",
   "execution_count": null,
   "metadata": {},
   "outputs": [],
   "source": [
    "\n",
    "from multiprocessing import Pool\n",
    "\n",
    "updates = [{\"dt_p\" : np.round(s, 5)} for  s in  [0.1, 1]]\n",
    "        \n",
    "def f(update):\n",
    "    \n",
    "    p = RCSR()\n",
    "    \n",
    "    param = default_params()\n",
    "    param.update({\n",
    "              \"ti\" : 10000, \n",
    "              \"tmax\" : 10000,\n",
    "              \"RI\" : 20,\n",
    "              \"severity\" : 0.7,\n",
    "              \"severity_type\" : \"random\",\n",
    "              \"ignition_type\" : \"random\",\n",
    "         })\n",
    "    param.update(update)\n",
    "\n",
    "    p = RCSR(param)\n",
    "    p.run()\n",
    "    return p\n",
    "\n",
    "pool = Pool(processes=8)             \n",
    "\n",
    "\n",
    "result =  (pool.map(f, updates)  )       \n",
    "pool.close()\n",
    "\n",
    "p = result[0]\n"
   ]
  },
  {
   "cell_type": "code",
   "execution_count": null,
   "metadata": {},
   "outputs": [],
   "source": [
    "for i, p in enumerate(result):\n",
    "    to = - int(5*p.RI/p.dt_p)\n",
    "    plt.plot(p.t_p[to:], p.G_u_list[to:], '-', label = print_dict(updates[i]))\n",
    "plt.legend()"
   ]
  },
  {
   "cell_type": "code",
   "execution_count": null,
   "metadata": {},
   "outputs": [],
   "source": [
    "canopy_plot(p, nfire = 10)"
   ]
  },
  {
   "cell_type": "code",
   "execution_count": null,
   "metadata": {},
   "outputs": [],
   "source": []
  }
 ],
 "metadata": {
  "kernelspec": {
   "display_name": "fire3",
   "language": "python",
   "name": "fire3"
  },
  "language_info": {
   "codemirror_mode": {
    "name": "ipython",
    "version": 3
   },
   "file_extension": ".py",
   "mimetype": "text/x-python",
   "name": "python",
   "nbconvert_exporter": "python",
   "pygments_lexer": "ipython3",
   "version": "3.6.10"
  }
 },
 "nbformat": 4,
 "nbformat_minor": 2
}
